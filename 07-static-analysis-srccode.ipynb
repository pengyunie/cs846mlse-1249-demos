{
 "cells": [
  {
   "cell_type": "code",
   "execution_count": 1,
   "metadata": {},
   "outputs": [],
   "source": [
    "# Generating lexer and parser from grammar files, with visitor\n",
    "! cd _work/06-parsing && antlr4 -Dlanguage=Python3 -visitor JavaLexer.g4 JavaParser.g4"
   ]
  },
  {
   "cell_type": "code",
   "execution_count": 2,
   "metadata": {},
   "outputs": [],
   "source": [
    "# Import the generated lexer, parser, and visitor\n",
    "import sys\n",
    "sys.path.append(\"_work/06-parsing\")\n",
    "\n",
    "import antlr4\n",
    "from antlr4 import FileStream, CommonTokenStream\n",
    "from JavaLexer import JavaLexer\n",
    "from JavaParser import JavaParser\n",
    "from JavaParserVisitor import JavaParserVisitor"
   ]
  },
  {
   "cell_type": "code",
   "execution_count": 26,
   "metadata": {},
   "outputs": [],
   "source": [
    "# Other imports\n",
    "from pathlib import Path\n",
    "import seutil as su\n",
    "import random\n",
    "import collections\n",
    "import dataclasses\n",
    "from tqdm import tqdm\n",
    "from typing import Dict, List, Optional, Set\n",
    "\n",
    "logger = su.log.get_logger(\"log\")"
   ]
  },
  {
   "cell_type": "code",
   "execution_count": 4,
   "metadata": {},
   "outputs": [],
   "source": [
    "# Parse the subject file\n",
    "subject_file = Path.cwd() / \"07-static-analysis-bytecode\" / \"src\" / \"main\" / \"java\" / \"ca\" / \"uwaterloo\" / \"cs846\" / \"Subject.java\"\n",
    "\n",
    "input_stream = FileStream(subject_file)\n",
    "lexer = JavaLexer(input_stream)\n",
    "stream = CommonTokenStream(lexer)\n",
    "parser = JavaParser(stream)\n",
    "tree = parser.compilationUnit()"
   ]
  },
  {
   "cell_type": "code",
   "execution_count": 5,
   "metadata": {},
   "outputs": [],
   "source": [
    "def pretty_print_tree(node, rule_names=None, parser=parser, indent_level=0) -> str:\n",
    "    if rule_names is None:\n",
    "        rule_names = parser.ruleNames\n",
    "\n",
    "    s = indent_level * \" \"\n",
    "\n",
    "    if isinstance(node, antlr4.RuleNode):\n",
    "        if (\n",
    "            node.getAltNumber() != 0\n",
    "        ):  # should use ATN.INVALID_ALT_NUMBER but won't compile\n",
    "            s += (\n",
    "                \"<\"\n",
    "                + rule_names[node.getRuleIndex()]\n",
    "                + \":\"\n",
    "                + str(node.getAltNumber())\n",
    "                + \">\"\n",
    "            )\n",
    "        s += \"<\" + rule_names[node.getRuleIndex()] + \">\"\n",
    "    elif isinstance(node, antlr4.ErrorNode):\n",
    "        s += \"<\" + str(node) + \">\"\n",
    "    elif isinstance(node, antlr4.TerminalNode):\n",
    "        if node.symbol is not None:\n",
    "            s += node.symbol.text\n",
    "\n",
    "    if node.getChildCount() == 1:\n",
    "        s += \" : \" + pretty_print_tree(\n",
    "            node.getChild(0), rule_names, parser, indent_level=0\n",
    "        )\n",
    "    else:\n",
    "        for i in range(node.getChildCount()):\n",
    "            c = node.getChild(i)\n",
    "            s += \"\\n\" + pretty_print_tree(c, rule_names, parser, indent_level + 2)\n",
    "    return s\n",
    "\n",
    "def get_text(node) -> str:\n",
    "    if isinstance(node, antlr4.TerminalNode):\n",
    "        return node.getText()\n",
    "    else:\n",
    "        return input_stream.getText(node.start.start, node.stop.stop)\n",
    "\n"
   ]
  },
  {
   "cell_type": "code",
   "execution_count": null,
   "metadata": {},
   "outputs": [],
   "source": [
    "print(su.io.load(subject_file, fmt=su.io.fmts.txt))\n",
    "print(pretty_print_tree(tree))"
   ]
  },
  {
   "cell_type": "code",
   "execution_count": 43,
   "metadata": {},
   "outputs": [],
   "source": [
    "# Implement the visitor\n",
    "@dataclasses.dataclass\n",
    "class MethodContext:\n",
    "    name: str = \"\"\n",
    "    signature: str = \"\"\n",
    "    defs: Set[str] = dataclasses.field(default_factory=set)\n",
    "    uses: Set[str] = dataclasses.field(default_factory=set)\n",
    "\n",
    "\n",
    "class FindUnusedLocalVarsVisitor(JavaParserVisitor):\n",
    "    def __init__(self):\n",
    "        super().__init__()\n",
    "        self.cur_method_ctx: Optional[MethodContext] = None\n",
    "\n",
    "    def visitMethodDeclaration(self, ctx: JavaParser.MethodDeclarationContext):\n",
    "        # save the current method context (in case of nested methods)\n",
    "        prev_method_ctx = self.cur_method_ctx\n",
    "\n",
    "        # create a new method context\n",
    "        name = ctx.identifier().getText()\n",
    "        ret_type = ctx.typeTypeOrVoid().getText()\n",
    "        param_types = []\n",
    "        for parameter in ctx.formalParameters().formalParameterList().formalParameter():\n",
    "            param_types.append(parameter.typeType().getText())\n",
    "        signature = f\"{ret_type} {name}({', '.join(param_types)})\"\n",
    "\n",
    "        self.cur_method_ctx = MethodContext(name=name, signature=signature)\n",
    "        logger.info(f\"beginning a method, {self.cur_method_ctx}\")\n",
    "\n",
    "        # delegate to super visitor\n",
    "        node = super().visitMethodDeclaration(ctx)\n",
    "\n",
    "        # check for any unused variables\n",
    "        logger.info(f\"ending a method, {self.cur_method_ctx}\")\n",
    "        unused_vars = self.cur_method_ctx.defs - self.cur_method_ctx.uses\n",
    "        if len(unused_vars) > 0:\n",
    "            logger.warning(f\"unused variables in `{self.cur_method_ctx.signature}`: {unused_vars}\")\n",
    "\n",
    "        # restore the previous method context\n",
    "        self.cur_method_ctx = prev_method_ctx\n",
    "        return node\n",
    "\n",
    "    # record definitions of variables (in VariableDeclaratorId)\n",
    "    def visitVariableDeclaratorId(self, ctx: JavaParser.VariableDeclaratorIdContext):\n",
    "        if self.cur_method_ctx is not None:\n",
    "            self.cur_method_ctx.defs.add(ctx.identifier().getText())\n",
    "        return super().visitVariableDeclaratorId(ctx)\n",
    "    \n",
    "    # record uses of variables (usually in Primary (see Expression rule))\n",
    "    def visitPrimary(self, ctx: JavaParser.PrimaryContext):\n",
    "        if self.cur_method_ctx is not None:\n",
    "            if ctx.identifier() is not None:\n",
    "                var = ctx.identifier().getText()\n",
    "                # Primary may be a mix of local/global variable uses and types, so we only record the ones defined in the current method\n",
    "                if var in self.cur_method_ctx.defs:\n",
    "                    self.cur_method_ctx.uses.add(var)\n",
    "        return super().visitPrimary(ctx)\n"
   ]
  },
  {
   "cell_type": "code",
   "execution_count": null,
   "metadata": {},
   "outputs": [],
   "source": [
    "# logger.setLevel(su.log.INFO)  # with detailed logging\n",
    "logger.setLevel(su.log.WARNING)  # with only warnings (final results)\n",
    "visitor = FindUnusedLocalVarsVisitor()\n",
    "tree.accept(visitor)"
   ]
  },
  {
   "cell_type": "code",
   "execution_count": null,
   "metadata": {},
   "outputs": [],
   "source": []
  }
 ],
 "metadata": {
  "kernelspec": {
   "display_name": "cs846mlse",
   "language": "python",
   "name": "python3"
  },
  "language_info": {
   "codemirror_mode": {
    "name": "ipython",
    "version": 3
   },
   "file_extension": ".py",
   "mimetype": "text/x-python",
   "name": "python",
   "nbconvert_exporter": "python",
   "pygments_lexer": "ipython3",
   "version": "3.10.15"
  }
 },
 "nbformat": 4,
 "nbformat_minor": 2
}
